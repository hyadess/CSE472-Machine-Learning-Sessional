{
 "cells": [
  {
   "cell_type": "code",
   "execution_count": null,
   "metadata": {},
   "outputs": [],
   "source": [
    "import numpy as np\n",
    "import pandas as pd\n",
    "import matplotlib.pyplot as plt\n",
    "from sklearn.manifold import TSNE\n",
    "import seaborn as sns\n",
    "import umap"
   ]
  },
  {
   "cell_type": "code",
   "execution_count": null,
   "metadata": {},
   "outputs": [],
   "source": [
    "pca_data = np.loadtxt(\"./spec/pca_data_online_1.txt\")"
   ]
  },
  {
   "cell_type": "code",
   "execution_count": null,
   "metadata": {},
   "outputs": [],
   "source": [
    "pca_data.shape"
   ]
  },
  {
   "cell_type": "code",
   "execution_count": null,
   "metadata": {},
   "outputs": [],
   "source": [
    "def perform_pca(data):\n",
    "    #subtract the mean to center the data and remove bias\n",
    "    # x = x - mean(x) \n",
    "    mean_data = data - np.mean(data, axis=0)\n",
    "    \n",
    "    # cov = 1/(n-1) * x^T * x  , where x is the centered data \n",
    "    covariance_matrix = np.cov(mean_data, rowvar=False)\n",
    "    \n",
    "    # detailed calculation of eigenvectors and eigenvalues are in notes folder. \n",
    "    eigenvalues, eigenvectors = np.linalg.eigh(covariance_matrix)\n",
    "    \n",
    "    # higher eigenvalues correspond to higher variance.\n",
    "    sorted_indices = np.argsort(eigenvalues)[::-1]\n",
    "    eigenvalues = eigenvalues[sorted_indices]\n",
    "    eigenvectors = eigenvectors[:, sorted_indices]\n",
    "    \n",
    "    # Project data onto the top 2 eigenvectors\n",
    "    top_2_eigenvectors = eigenvectors[:, :2]\n",
    "    projected_data = np.dot(mean_data, top_2_eigenvectors)\n",
    "    \n",
    "    return projected_data, top_2_eigenvectors, eigenvalues"
   ]
  },
  {
   "cell_type": "code",
   "execution_count": null,
   "metadata": {},
   "outputs": [],
   "source": [
    "def plot_pca(data):\n",
    "\n",
    "    plt.figure(figsize=(8, 6))\n",
    "    plt.scatter(data[:, 0], data[:, 1], alpha=0.6, s=10, color=\"blue\")\n",
    "    plt.title(\"2D Scatter Plot - PCA\")\n",
    "    plt.xlabel(\"Principal Component 1\")\n",
    "    plt.ylabel(\"Principal Component 2\")\n",
    "    plt.grid(True)\n",
    "    plt.show()"
   ]
  },
  {
   "cell_type": "code",
   "execution_count": null,
   "metadata": {},
   "outputs": [],
   "source": [
    "def plot_umap_tsne(data):\n",
    "\n",
    "    # UMAP\n",
    "    umap_proj = umap.UMAP(n_neighbors=15, min_dist=0.1, random_state=73).fit_transform(data)\n",
    "    plt.figure(figsize=(8, 6))\n",
    "    plt.scatter(umap_proj[:, 0], umap_proj[:, 1], alpha=0.6, s=50, color=\"green\")\n",
    "    plt.title(\"UMAP Projection\")\n",
    "    plt.grid(True)\n",
    "    plt.show()\n",
    "\n",
    "    # t-SNE\n",
    "    tsne_proj = TSNE(n_components=2, perplexity=20, random_state=73).fit_transform(data)\n",
    "    plt.figure(figsize=(8, 6))\n",
    "    plt.scatter(tsne_proj[:, 0], tsne_proj[:, 1], alpha=0.6, s=10, color=\"red\")\n",
    "    plt.title(\"t-SNE Projection\")\n",
    "    plt.grid(True)\n",
    "    plt.show()"
   ]
  },
  {
   "cell_type": "code",
   "execution_count": null,
   "metadata": {},
   "outputs": [],
   "source": [
    "from scipy.special import factorial  # Import for factorial computation\n",
    "\n",
    "def em_algorithm(data, max_iter=250, tol=1e-6):\n",
    "    # Initialize parameters\n",
    "    np.random.seed(42)\n",
    "    λ1, λ2 = np.random.rand(2) * 10  # avg number of children/event in family 1 and 2\n",
    "    π1, π2 = 0.5, 0.5  # probability of family 1 and 2\n",
    "\n",
    "    n_samples = len(data)\n",
    "    responsibilities = np.zeros((n_samples, 2))\n",
    "\n",
    "    for iteration in range(max_iter):\n",
    "        # E-step: Compute responsibilities\n",
    "        prob1 = π1 * (λ1**data * np.exp(-λ1)) / factorial(data, exact=False).clip(min=1) # lembda^x * e^(-lembda) / x! for all x in data\n",
    "        prob2 = π2 * (λ2**data * np.exp(-λ2)) / factorial(data, exact=False).clip(min=1) \n",
    "\n",
    "        # prob1 means the probability of data point belonging to family 1 \n",
    "        sum_probs = prob1 + prob2\n",
    "\n",
    "        # responsibilities are the probability of data point belonging to family 1 or 2 ( n*2 matrix)\n",
    "        responsibilities[:, 0] = prob1 / sum_probs\n",
    "        responsibilities[:, 1] = prob2 / sum_probs\n",
    "\n",
    "        # M-step: Update parameters\n",
    "        π1_new = responsibilities[:, 0].mean() # mean of all the probabilities of data points belonging to family 1\n",
    "        π2_new = responsibilities[:, 1].mean() # mean of all the probabilities of data points belonging to family 2\n",
    "\n",
    "\n",
    "        # lembda = sum(x * p(x)) / sum(p(x))  \n",
    "        # where x is the data point and p(x) is the probability of data point belonging to family 1 or 2\n",
    "        # basically, lembda is the expected value of the data points belonging to family 1 or 2\n",
    "        λ1_new = (responsibilities[:, 0] * data).sum() / responsibilities[:, 0].sum()\n",
    "        λ2_new = (responsibilities[:, 1] * data).sum() / responsibilities[:, 1].sum()\n",
    "\n",
    "        # Check for convergence\n",
    "        if np.abs(λ1 - λ1_new) < tol and np.abs(λ2 - λ2_new) < tol:\n",
    "            break\n",
    "\n",
    "        # Update parameters for the next iteration\n",
    "        π1, π2 = π1_new, π2_new\n",
    "        λ1, λ2 = λ1_new, λ2_new\n",
    "\n",
    "    return λ1, λ2, π1, π2\n"
   ]
  },
  {
   "cell_type": "code",
   "execution_count": null,
   "metadata": {},
   "outputs": [],
   "source": [
    "print(\"Running PCA...\")\n",
    "pca_result, _, _ = perform_pca(pca_data)\n",
    "plot_pca(pca_result)\n",
    "plot_umap_tsne(pca_data)\n",
    "\n",
    "# EM Task\n",
    "print(\"Running EM Algorithm...\")\n",
    "em_data = np.loadtxt(\"./spec/em_data_online_1.txt\")\n",
    "λ1, λ2, π1, π2 = em_algorithm(em_data)\n",
    "print(f\"Estimated parameters:\")\n",
    "print(f\"Mean (λ1) for families with family planning: {λ1}\")\n",
    "print(f\"Mean (λ2) for families without family planning: {λ2}\")\n",
    "print(f\"Proportion (π1) of families with family planning: {π1}\")\n",
    "print(f\"Proportion (π2) of families without family planning: {π2}\")"
   ]
  }
 ],
 "metadata": {
  "kernelspec": {
   "display_name": "ml-lab",
   "language": "python",
   "name": "python3"
  },
  "language_info": {
   "codemirror_mode": {
    "name": "ipython",
    "version": 3
   },
   "file_extension": ".py",
   "mimetype": "text/x-python",
   "name": "python",
   "nbconvert_exporter": "python",
   "pygments_lexer": "ipython3",
   "version": "3.10.14"
  }
 },
 "nbformat": 4,
 "nbformat_minor": 2
}
