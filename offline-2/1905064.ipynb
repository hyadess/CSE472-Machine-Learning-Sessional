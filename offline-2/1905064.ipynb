{
 "cells": [
  {
   "cell_type": "code",
   "execution_count": 66,
   "metadata": {},
   "outputs": [],
   "source": [
    "# import csv file\n",
    "\n",
    "import pandas as pd\n"
   ]
  },
  {
   "cell_type": "code",
   "execution_count": 67,
   "metadata": {},
   "outputs": [],
   "source": [
    "# import csv file\n",
    "\n",
    "df = pd.read_csv('datasets/telco_churn.csv')"
   ]
  },
  {
   "cell_type": "markdown",
   "metadata": {},
   "source": [
    "***PRE PROCESSING***"
   ]
  },
  {
   "cell_type": "code",
   "execution_count": null,
   "metadata": {},
   "outputs": [],
   "source": [
    "df.info()"
   ]
  },
  {
   "cell_type": "code",
   "execution_count": null,
   "metadata": {},
   "outputs": [],
   "source": [
    "df.head()"
   ]
  },
  {
   "cell_type": "code",
   "execution_count": null,
   "metadata": {},
   "outputs": [],
   "source": [
    "categorical_df = df.select_dtypes(include=['object'])\n",
    "categorical_df.info()"
   ]
  },
  {
   "cell_type": "code",
   "execution_count": null,
   "metadata": {},
   "outputs": [],
   "source": [
    "numerical_df = df.select_dtypes(exclude=['object'])\n",
    "numerical_df.info()"
   ]
  },
  {
   "cell_type": "code",
   "execution_count": 72,
   "metadata": {},
   "outputs": [],
   "source": [
    "target_column_name='Churn'"
   ]
  },
  {
   "cell_type": "code",
   "execution_count": null,
   "metadata": {},
   "outputs": [],
   "source": [
    "# null value count in categorical columns and neumerical columns\n",
    "print(categorical_df.isnull().sum())\n",
    "print(numerical_df.isnull().sum())"
   ]
  },
  {
   "cell_type": "code",
   "execution_count": 74,
   "metadata": {},
   "outputs": [],
   "source": [
    "# replace missing values in categorical columns with the most frequent value except for the target column\n",
    "for column in categorical_df.columns:\n",
    "    if column != target_column_name:\n",
    "        categorical_df[column]=categorical_df[column].fillna(categorical_df[column].value_counts().index[0])\n",
    "    else:\n",
    "        # drop null rows for target column\n",
    "        categorical_df = categorical_df.dropna(subset=[column])\n",
    "    \n",
    "# replace missing values in numerical columns with the mean except for the target column\n",
    "for column in numerical_df.columns:\n",
    "    if column != target_column_name:\n",
    "        numerical_df[column]=numerical_df[column].fillna(numerical_df[column].mean())\n",
    "    else:\n",
    "        # drop null rows for target column\n",
    "        numerical_df = numerical_df.dropna(subset=[column])"
   ]
  },
  {
   "cell_type": "code",
   "execution_count": null,
   "metadata": {},
   "outputs": [],
   "source": [
    "categorical_df.info()\n",
    "numerical_df.info()"
   ]
  },
  {
   "cell_type": "markdown",
   "metadata": {},
   "source": [
    "***ENCODING AND SCALING***"
   ]
  },
  {
   "cell_type": "code",
   "execution_count": null,
   "metadata": {},
   "outputs": [],
   "source": [
    "#drop customer id column\n",
    "categorical_df = categorical_df.drop(columns=['customerID'])\n",
    "# drop total charges column\n",
    "categorical_df = categorical_df.drop(columns=['TotalCharges'])\n",
    "\n",
    "# total categories for each categorical column\n",
    "for column in categorical_df.columns:\n",
    "    print(f'{column}: {categorical_df[column].nunique()} categories')"
   ]
  },
  {
   "cell_type": "code",
   "execution_count": null,
   "metadata": {},
   "outputs": [],
   "source": [
    "# total columns count in categorical_df\n",
    "print(len(categorical_df.columns))\n",
    "categorical_df.head()"
   ]
  },
  {
   "cell_type": "code",
   "execution_count": 78,
   "metadata": {},
   "outputs": [],
   "source": [
    "# do label encodind for categorical columns if there is only 2 categories, otherwise do one hot encoding\n",
    "from sklearn.preprocessing import LabelEncoder\n",
    "from sklearn.preprocessing import OneHotEncoder\n",
    "\n",
    "\n",
    "# at first, do the label encoding for binary columns\n",
    "le = LabelEncoder()\n",
    "for column in categorical_df.columns:\n",
    "    if categorical_df[column].nunique() == 2:\n",
    "        categorical_df[column] = le.fit_transform(categorical_df[column])\n",
    "\n",
    "# then do one hot encoding for the rest of the columns\n",
    "categorical_df = pd.get_dummies(categorical_df).astype('int64')"
   ]
  }
 ],
 "metadata": {
  "kernelspec": {
   "display_name": "Python 3",
   "language": "python",
   "name": "python3"
  },
  "language_info": {
   "codemirror_mode": {
    "name": "ipython",
    "version": 3
   },
   "file_extension": ".py",
   "mimetype": "text/x-python",
   "name": "python",
   "nbconvert_exporter": "python",
   "pygments_lexer": "ipython3",
   "version": "3.10.12"
  }
 },
 "nbformat": 4,
 "nbformat_minor": 2
}
